{
  "nbformat": 4,
  "nbformat_minor": 0,
  "metadata": {
    "colab": {
      "name": "floats.ipynb",
      "provenance": [],
      "authorship_tag": "ABX9TyNkWer5tWOFhe8+Vd3HLX8f",
      "include_colab_link": true
    },
    "kernelspec": {
      "name": "python3",
      "display_name": "Python 3"
    },
    "language_info": {
      "name": "python"
    }
  },
  "cells": [
    {
      "cell_type": "markdown",
      "metadata": {
        "id": "view-in-github",
        "colab_type": "text"
      },
      "source": [
        "<a href=\"https://colab.research.google.com/github/jd-roberts/2300-files/blob/main/floats.ipynb\" target=\"_parent\"><img src=\"https://colab.research.google.com/assets/colab-badge.svg\" alt=\"Open In Colab\"/></a>"
      ]
    },
    {
      "cell_type": "code",
      "metadata": {
        "id": "oarcNurnFTGa"
      },
      "source": [
        ""
      ],
      "execution_count": null,
      "outputs": []
    },
    {
      "cell_type": "markdown",
      "metadata": {
        "id": "dwumnULAGBIf"
      },
      "source": [
        "A Python integer can be made as large as you like, but a float is can only be as precise as the number of digits that can be stored. On most machines that is 8 bytes = 64 bits (a bit is a 1 or a 0). This works out to about 16 decimal points. We'll go over this more when we cover number theory and binary numbers.\n",
        "\n",
        "In Java a float can give 6-7 decimal points of precision, and a double can give 15-16 decimal points of precision.\n",
        "\n",
        "In Python a float gives 15-16 decimal points of precision."
      ]
    },
    {
      "cell_type": "code",
      "metadata": {
        "colab": {
          "base_uri": "https://localhost:8080/"
        },
        "id": "6gU1DjqQF-io",
        "outputId": "344674f4-238a-4f05-8af6-28941c13053b"
      },
      "source": [
        "int(\"1\"*100)"
      ],
      "execution_count": null,
      "outputs": [
        {
          "output_type": "execute_result",
          "data": {
            "text/plain": [
              "1111111111111111111111111111111111111111111111111111111111111111111111111111111111111111111111111111"
            ]
          },
          "metadata": {},
          "execution_count": 1
        }
      ]
    },
    {
      "cell_type": "code",
      "metadata": {
        "colab": {
          "base_uri": "https://localhost:8080/"
        },
        "id": "KMPknb6DHGl5",
        "outputId": "7208888f-8cd5-435b-832b-c49b56b604a4"
      },
      "source": [
        "float(\"1\"*100)"
      ],
      "execution_count": null,
      "outputs": [
        {
          "output_type": "execute_result",
          "data": {
            "text/plain": [
              "1.111111111111111e+99"
            ]
          },
          "metadata": {},
          "execution_count": 2
        }
      ]
    },
    {
      "cell_type": "markdown",
      "metadata": {
        "id": "dqbQz5xpHaK7"
      },
      "source": [
        "It truncates it off and uses scientific notation after about 16 decimal places. It can't record those last 84 decical points because that would use more than 8 bytes of memory. \n",
        "\n",
        "We need to keep this mind, because float pathologies exist."
      ]
    },
    {
      "cell_type": "code",
      "metadata": {
        "colab": {
          "base_uri": "https://localhost:8080/"
        },
        "id": "g_TC4e8sHx5T",
        "outputId": "d88881e4-5ccb-4445-b416-4f377d097068"
      },
      "source": [
        "1. + 1e-16"
      ],
      "execution_count": null,
      "outputs": [
        {
          "output_type": "execute_result",
          "data": {
            "text/plain": [
              "1.0"
            ]
          },
          "metadata": {},
          "execution_count": 3
        }
      ]
    },
    {
      "cell_type": "code",
      "metadata": {
        "colab": {
          "base_uri": "https://localhost:8080/"
        },
        "id": "rzgEp1kyH76M",
        "outputId": "d7a59676-51d0-43f2-ef4f-7baa17c31bc4"
      },
      "source": [
        "0.1 + 0.1 + 0.1"
      ],
      "execution_count": null,
      "outputs": [
        {
          "output_type": "execute_result",
          "data": {
            "text/plain": [
              "0.30000000000000004"
            ]
          },
          "metadata": {},
          "execution_count": 4
        }
      ]
    },
    {
      "cell_type": "code",
      "metadata": {
        "colab": {
          "base_uri": "https://localhost:8080/"
        },
        "id": "I0VH3OEBILnt",
        "outputId": "971ded1a-adc6-4c2e-c4bc-f74c05e99cf8"
      },
      "source": [
        "0.1 + 0.1 + 0.1 - 0.3 == 0"
      ],
      "execution_count": null,
      "outputs": [
        {
          "output_type": "execute_result",
          "data": {
            "text/plain": [
              "False"
            ]
          },
          "metadata": {},
          "execution_count": 5
        }
      ]
    },
    {
      "cell_type": "markdown",
      "metadata": {
        "id": "zuiyOZwfIcgt"
      },
      "source": [
        "This is just a consequence of floating-point arithmetic. Practically speaking, it doesn't usually matter **UNLESS** you're checking if two floats are equal. \n",
        "\n",
        "Don't ever do that. Instead, you can use the function `math.isclose()` from the `math` module. (Other options exist like using the `decimal` and `fractions` modules.)"
      ]
    },
    {
      "cell_type": "code",
      "metadata": {
        "colab": {
          "base_uri": "https://localhost:8080/"
        },
        "id": "Y6PpDQTwIzlY",
        "outputId": "198ffdf5-0ad1-4289-8d5e-500d0a3d2666"
      },
      "source": [
        "import math\n",
        "math.isclose((0.1+0.1+0.1 - 0.3), 0., abs_tol=1e-9)"
      ],
      "execution_count": null,
      "outputs": [
        {
          "output_type": "execute_result",
          "data": {
            "text/plain": [
              "True"
            ]
          },
          "metadata": {},
          "execution_count": 12
        }
      ]
    }
  ]
}